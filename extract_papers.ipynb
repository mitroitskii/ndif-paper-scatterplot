{
 "cells": [
  {
   "cell_type": "code",
   "execution_count": 32,
   "metadata": {},
   "outputs": [
    {
     "name": "stdout",
     "output_type": "stream",
     "text": [
      "                                                 paper  year  \\\n",
      "0    S. Abnar and W. Zuidema. Quantifying attention...  2020   \n",
      "1    R. Achtibat, S. M. V. Hatefi, M. Dreyer, A. Ja...  2024   \n",
      "2    J. Adebayo, J. Gilmer, M. Muelly, I. Goodfello...  2018   \n",
      "3    J. Adebayo, M. Muelly, I. Liccardi, and B. Kim...  2020   \n",
      "4    J. Adebayo, M. Muelly, H. Abelson, and B. Kim....  2022   \n",
      "..                                                 ...   ...   \n",
      "405  Z. Zhao and B. Shan. Reagent: A model-agnostic...  2024   \n",
      "406  Z. Zhong, Z. Liu, M. Tegmark, and J. Andreas. ...  2023   \n",
      "407  B. Zhou, A. Khosla, A. Lapedriza, A. Oliva, an...  2015   \n",
      "408  H. Zhou, A. Bradley, E. Littwin, N. Razin, O. ...  2024   \n",
      "409  A. Zou, L. Phan, S. Chen, J. Campbell, P. Guo,...  2023   \n",
      "\n",
      "                                                  link  \n",
      "0           https://aclanthology.org/2020.acl-main.385  \n",
      "1                                                       \n",
      "2                                                       \n",
      "3                                                       \n",
      "4          https://openreview.net/forum?id=xNOVfCCvDpM  \n",
      "..                                                 ...  \n",
      "405                                                     \n",
      "406  https://proceedings.neurips.cc/paper_files/pap...  \n",
      "407                                                     \n",
      "408         https://openreview.net/forum?id=AssIuHnmHX  \n",
      "409                   https://arxiv.org/abs/2310.01405  \n",
      "\n",
      "[410 rows x 3 columns]\n"
     ]
    }
   ],
   "source": [
    "import pandas as pd\n",
    "\n",
    "def extract_papers(text):\n",
    "    papers = []\n",
    "    \n",
    "    # Split the text into individual entries\n",
    "    entries = re.split(r'\\([pP]\\.\\s*\\d+(?:,\\s*\\d+)*\\)\\s*', text)\n",
    "    \n",
    "    for entry in entries:\n",
    "        if entry.strip():\n",
    "            # Remove newlines and extra spaces from the entry\n",
    "            clean_entry = ' '.join(entry.split())\n",
    "            \n",
    "            # Extract year\n",
    "            year = re.search(r'\\b(19|20)\\d{2}\\b', clean_entry)\n",
    "            year = year.group() if year else ''\n",
    "            \n",
    "            # Extract link, remove trailing period and newlines\n",
    "            link_match = re.search(r'URL\\s(.+?)\\.?\\s*$', clean_entry)\n",
    "            link = ' '.join(link_match.group(1).split()) if link_match else ''\n",
    "            link = link.replace(' ', '')  # Remove any spaces from the link string\n",
    "            \n",
    "            papers.append({\n",
    "                'paper': clean_entry,\n",
    "                'year': year,\n",
    "                'link': link\n",
    "            })\n",
    "    \n",
    "    return papers\n",
    "\n",
    "# Read the text from a file\n",
    "with open('papers.txt', 'r') as file:\n",
    "    text = file.read()\n",
    "\n",
    "# Extract papers\n",
    "extracted_papers = extract_papers(text)\n",
    "\n",
    "# Create DataFrame\n",
    "df = pd.DataFrame(extracted_papers)\n",
    "\n",
    "# Display the DataFrame\n",
    "print(df)\n",
    "\n",
    "# You can also save the DataFrame to a CSV file if needed\n",
    "df.to_csv('papers.csv', index=False)"
   ]
  }
 ],
 "metadata": {
  "kernelspec": {
   "display_name": "cs6120",
   "language": "python",
   "name": "python3"
  },
  "language_info": {
   "codemirror_mode": {
    "name": "ipython",
    "version": 3
   },
   "file_extension": ".py",
   "mimetype": "text/x-python",
   "name": "python",
   "nbconvert_exporter": "python",
   "pygments_lexer": "ipython3",
   "version": "3.9.16"
  }
 },
 "nbformat": 4,
 "nbformat_minor": 2
}
